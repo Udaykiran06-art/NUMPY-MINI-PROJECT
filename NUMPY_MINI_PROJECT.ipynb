{
  "nbformat": 4,
  "nbformat_minor": 0,
  "metadata": {
    "colab": {
      "provenance": [],
      "authorship_tag": "ABX9TyMxdoU8Sy7sRogJrCIzhQMw",
      "include_colab_link": true
    },
    "kernelspec": {
      "name": "python3",
      "display_name": "Python 3"
    },
    "language_info": {
      "name": "python"
    }
  },
  "cells": [
    {
      "cell_type": "markdown",
      "metadata": {
        "id": "view-in-github",
        "colab_type": "text"
      },
      "source": [
        "<a href=\"https://colab.research.google.com/github/Udaykiran06-art/NUMPY-MINI-PROJECT/blob/main/NUMPY_MINI_PROJECT.ipynb\" target=\"_parent\"><img src=\"https://colab.research.google.com/assets/colab-badge.svg\" alt=\"Open In Colab\"/></a>"
      ]
    },
    {
      "cell_type": "code",
      "execution_count": null,
      "metadata": {
        "colab": {
          "base_uri": "https://localhost:8080/"
        },
        "id": "T2m2K8mNeqvi",
        "outputId": "9b541290-4774-4c5b-da88-d38a0be53f9b"
      },
      "outputs": [
        {
          "output_type": "stream",
          "name": "stdout",
          "text": [
            "Hottest temperature of the week: 25.1 °C\n",
            "Coldest temperature of the week: 19.8 °C\n",
            "Average temperature of the week: 22.3 °C\n",
            "Temperatures above average: [22.5 24.  25.1 23.3]\n",
            "Number of days above average: 4\n",
            "=== Temperature Data Analyzer ===\n",
            "Temperatures (°C): [22.5 24.  19.8 21.4 25.1 23.3 20. ]\n",
            "Hottest Temperature: 25.1°C (Day 5)\n",
            "Coldest Temperature: 19.8°C (Day 3)\n",
            "Average Temperature: 22.3°C\n",
            "Number of Days Above Average: (len(above_avg_days))\n",
            "Temperatures Above Average: [ True  True False False  True  True False]\n"
          ]
        }
      ],
      "source": [
        "import numpy as np\n",
        "\n",
        "def main():\n",
        "    # Step 1: Store temperatures for 7 days (°C)\n",
        "    temperatures = np.array([22.5, 24.0, 19.8, 21.4, 25.1, 23.3, 20.0])\n",
        "\n",
        "    # Step 2: Find the hottest and coldest temperatures\n",
        "    max_temp = np.max(temperatures)\n",
        "    min_temp = np.min(temperatures)\n",
        "\n",
        "    print(\"Hottest temperature of the week:\", max_temp, \"°C\")\n",
        "    print(\"Coldest temperature of the week:\", min_temp, \"°C\")\n",
        "\n",
        "    # Step 3: Calculate average temperature\n",
        "    avg_temp = np.mean(temperatures)\n",
        "    print(\"Average temperature of the week:\", round(avg_temp, 2), \"°C\")\n",
        "\n",
        "    # Step 4: Find days with above average temperature\n",
        "    above_avg = temperatures > avg_temp\n",
        "    above_avg_days = temperatures[above_avg]\n",
        "\n",
        "    print(\"Temperatures above average:\", above_avg_days)\n",
        "    print(\"Number of days above average:\", len(above_avg_days))\n",
        "\n",
        "\n",
        "    # Step 5: Identify hottest and coldest days (index + 1 for day number)\n",
        "    hottest_day = np.where(temperatures == max_temp)[0][0] + 1\n",
        "    coldest_day = np.where(temperatures == min_temp)[0][0] + 1\n",
        "\n",
        "    # Step 6: Display results\n",
        "    print(\"=== Temperature Data Analyzer ===\")\n",
        "    print(\"Temperatures (°C):\", temperatures)\n",
        "    print(f\"Hottest Temperature: {max_temp:.1f}°C (Day {hottest_day})\")\n",
        "    print(f\"Coldest Temperature: {min_temp:.1f}°C (Day {coldest_day})\")\n",
        "    print(f\"Average Temperature: {avg_temp:.1f}°C\")\n",
        "    print(f\"Number of Days Above Average: (len(above_avg_days))\")\n",
        "    print(\"Temperatures Above Average:\", above_avg)\n",
        "\n",
        "if __name__ == \"__main__\":\n",
        "    main()\n"
      ]
    },
    {
      "cell_type": "code",
      "source": [
        "#Analyze marks of students in different subjects using numpy arrays\n",
        "#Marks of 5 students in 3 subjects : [math, science, english]\n",
        "import numpy as np\n",
        "marks = np.array([[98,99,97],#student1\n",
        "                 [88,89,87],#student2\n",
        "                  [78,100,85],#student3\n",
        "                  [84,83,81],#student4\n",
        "                  [81,80,100] #student5\n",
        "                  ])\n",
        "print(\"Marks matrix:\\\\n,marks\")\n",
        "\n",
        "#calculate average marks per student and per subject\n",
        "avg_marks_per_student = np.array(np.mean(marks,axis=1))\n",
        "print(\"Average marks per student:\\\\n,avg_marks_per_student\")\n",
        "\n",
        "avg_marks_per_subject = np.array(np.mean(marks,axis=0))\n",
        "print(\"Average marks per subject:\\\\n,avg_marks_per_subject\")\n",
        "\n",
        "#find toppers in each subjet\n",
        "topper_indices = np.argmax(marks,axis=0)\n",
        "subjects = [\"Math\", \"Science\", \"English\"]\n",
        "for i,subject in enumerate(subjects):\n",
        "    topper_index = topper_indices[i]\n",
        "    topper_name = f\"Student{topper_index+1}\"\n",
        "    print(f\"Topper in {subject:},{topper_name}\")\n",
        "\n",
        "#Calculate Standard Deviation per Subject\n",
        "std_dev_per_subject = np.std(marks,axis=0)\n",
        "print(\"Standard Deviation Per Subject\",std_dev_per_subject)\n",
        "\n",
        "\n",
        "print(\"\\n--- Summary ---\")\n",
        "print(\"Marks:\\n\", marks)\n",
        "print(\"Average per student:\", avg_marks_per_student)\n",
        "print(\"Average per subject:\", avg_marks_per_subject)\n",
        "print(\"Standard deviation per subject:\", std_dev_per_subject)\n",
        "\n",
        "\n",
        "\n",
        "\n"
      ],
      "metadata": {
        "colab": {
          "base_uri": "https://localhost:8080/"
        },
        "id": "9wsj6nd4kNGc",
        "outputId": "5339b514-5190-440a-aa75-c4e8e15d38bd"
      },
      "execution_count": null,
      "outputs": [
        {
          "output_type": "stream",
          "name": "stdout",
          "text": [
            "Marks matrix:\\n,marks\n",
            "Average marks per student:\\n,avg_marks_per_student\n",
            "Average marks per subject:\\n,avg_marks_per_subject\n",
            "Topper in Math,Student1\n",
            "Topper in Science,Student3\n",
            "Topper in English,Student5\n",
            "Standard Deviation Per Subject [6.93974063 8.13387976 7.26636085]\n",
            "\n",
            "--- Summary ---\n",
            "Marks:\n",
            " [[ 98  99  97]\n",
            " [ 88  89  87]\n",
            " [ 78 100  85]\n",
            " [ 84  83  81]\n",
            " [ 81  80 100]]\n",
            "Average per student: [98.         88.         87.66666667 82.66666667 87.        ]\n",
            "Average per subject: [85.8 90.2 90. ]\n",
            "Standard deviation per subject: [6.93974063 8.13387976 7.26636085]\n"
          ]
        }
      ]
    }
  ]
}